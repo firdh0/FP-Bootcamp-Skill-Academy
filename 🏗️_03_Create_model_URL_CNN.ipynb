{
  "cells": [
    {
      "cell_type": "markdown",
      "metadata": {
        "id": "RY_M-WNMD3CN"
      },
      "source": [
        "# 📢 File explanation!!\n"
      ]
    },
    {
      "cell_type": "markdown",
      "metadata": {
        "id": "jOeKXJFvhVy9"
      },
      "source": [
        "# 🎯 **Step 0: Import library**\n",
        "---"
      ]
    },
    {
      "cell_type": "code",
      "execution_count": 14,
      "metadata": {
        "id": "FYvOOKCLhVy_"
      },
      "outputs": [],
      "source": [
        "import pandas as pd\n",
        "import matplotlib\n",
        "import matplotlib.pyplot as plt\n",
        "import seaborn as sns\n",
        "\n",
        "from collections import Counter\n",
        "\n",
        "from sklearn.preprocessing import StandardScaler\n",
        "from sklearn.model_selection import train_test_split\n",
        "from sklearn.metrics import f1_score, accuracy_score, precision_score, recall_score, confusion_matrix\n",
        "\n",
        "from tensorflow.keras.models import Model\n",
        "from tensorflow.keras import regularizers\n",
        "from tensorflow.keras.metrics import Precision, Recall\n",
        "from tensorflow.keras import layers, models, optimizers, callbacks, metrics\n",
        "from tensorflow.keras.optimizers import Adam\n",
        "from tensorflow.keras.callbacks import EarlyStopping, ModelCheckpoint, Callback\n",
        "from tensorflow.keras.preprocessing.text import Tokenizer\n",
        "from tensorflow.keras.preprocessing.sequence import pad_sequences\n",
        "from tensorflow.keras.layers import Concatenate, Bidirectional, ELU, LSTM, Activation, Dense, Dropout, Input, Embedding, Concatenate, Dense, Conv1D, AveragePooling1D, MaxPooling1D, Flatten, Dropout"
      ]
    },
    {
      "cell_type": "code",
      "execution_count": 15,
      "metadata": {
        "colab": {
          "base_uri": "https://localhost:8080/"
        },
        "id": "CoJe9idHACXR",
        "outputId": "aab63ac9-9a6d-41ea-9d6f-5350688a54e9"
      },
      "outputs": [
        {
          "name": "stderr",
          "output_type": "stream",
          "text": [
            "<ipython-input-15-4a43041a1d49>:1: MatplotlibDeprecationWarning: The seaborn styles shipped by Matplotlib are deprecated since 3.6, as they no longer correspond to the styles shipped by seaborn. However, they will remain available as 'seaborn-v0_8-<style>'. Alternatively, directly use the seaborn API instead.\n",
            "  plt.style.use('seaborn')\n"
          ]
        }
      ],
      "source": [
        "plt.style.use('seaborn')"
      ]
    },
    {
      "cell_type": "code",
      "execution_count": 16,
      "metadata": {
        "colab": {
          "base_uri": "https://localhost:8080/"
        },
        "id": "E-Z24SM7hdnf",
        "outputId": "07eb953b-ce73-4985-888a-81d69791cc44"
      },
      "outputs": [
        {
          "name": "stdout",
          "output_type": "stream",
          "text": [
            "Drive already mounted at /content/drive; to attempt to forcibly remount, call drive.mount(\"/content/drive\", force_remount=True).\n"
          ]
        }
      ],
      "source": [
        "from google.colab import drive\n",
        "drive.mount('/content/drive')"
      ]
    },
    {
      "cell_type": "markdown",
      "metadata": {
        "id": "GgpzQ7ywhVzC"
      },
      "source": [
        "# 🎯 **Step 1: Load Dataset**\n",
        "---"
      ]
    },
    {
      "cell_type": "code",
      "execution_count": 17,
      "metadata": {
        "colab": {
          "base_uri": "https://localhost:8080/",
          "height": 310
        },
        "id": "oeqsGY-IhVzE",
        "outputId": "abed272b-b33b-4c70-e282-bdf1f2d87f42"
      },
      "outputs": [
        {
          "data": {
            "application/vnd.google.colaboratory.intrinsic+json": {
              "summary": "{\n  \"name\": \"df_url\",\n  \"rows\": 44078,\n  \"fields\": [\n    {\n      \"column\": \"Category\",\n      \"properties\": {\n        \"dtype\": \"category\",\n        \"num_unique_values\": 2,\n        \"samples\": [\n          \"ham\",\n          \"spam\"\n        ],\n        \"semantic_type\": \"\",\n        \"description\": \"\"\n      }\n    },\n    {\n      \"column\": \"URL\",\n      \"properties\": {\n        \"dtype\": \"string\",\n        \"num_unique_values\": 44078,\n        \"samples\": [\n          \"www.evernote.com/shard/s321/client/snv?noteGuid=777735b6-7206-0be1-628f-b095ff26a485&noteKey=803670c5e267fe76b14b5c7466cb9dd8&sn=https%3A%2F%2Fwww.evernote.com%2Fshard%2Fs321%2Fsh%2F777735b6-7206-0be1-628f-b095ff26a485%2F803670c5e267fe76b14b5c7466cb9dd8&title=you%2Bhave%2Ba%2Bfax%2521%2Bcopy%2Bcopy\",\n          \"tiendaideal.com.ar/webservice/login.bankofamerica.com\"\n        ],\n        \"semantic_type\": \"\",\n        \"description\": \"\"\n      }\n    },\n    {\n      \"column\": \"clean_URL\",\n      \"properties\": {\n        \"dtype\": \"string\",\n        \"num_unique_values\": 41136,\n        \"samples\": [\n          \"['natasa', 'art', 'com', 'verify', 'account', 'page', 'php']\",\n          \"['randomnetstuff', 'com', 'rainbowguardian']\"\n        ],\n        \"semantic_type\": \"\",\n        \"description\": \"\"\n      }\n    },\n    {\n      \"column\": \"clean_URL_sentence\",\n      \"properties\": {\n        \"dtype\": \"string\",\n        \"num_unique_values\": 41136,\n        \"samples\": [\n          \"natasa art com verify account page php\",\n          \"randomnetstuff com rainbowguardian\"\n        ],\n        \"semantic_type\": \"\",\n        \"description\": \"\"\n      }\n    }\n  ]\n}",
              "type": "dataframe",
              "variable_name": "df_url"
            },
            "text/html": [
              "\n",
              "  <div id=\"df-7fcd0107-2907-470f-ab1d-1b47f6b2aa71\" class=\"colab-df-container\">\n",
              "    <div>\n",
              "<style scoped>\n",
              "    .dataframe tbody tr th:only-of-type {\n",
              "        vertical-align: middle;\n",
              "    }\n",
              "\n",
              "    .dataframe tbody tr th {\n",
              "        vertical-align: top;\n",
              "    }\n",
              "\n",
              "    .dataframe thead th {\n",
              "        text-align: right;\n",
              "    }\n",
              "</style>\n",
              "<table border=\"1\" class=\"dataframe\">\n",
              "  <thead>\n",
              "    <tr style=\"text-align: right;\">\n",
              "      <th></th>\n",
              "      <th>Category</th>\n",
              "      <th>URL</th>\n",
              "      <th>clean_URL</th>\n",
              "      <th>clean_URL_sentence</th>\n",
              "    </tr>\n",
              "  </thead>\n",
              "  <tbody>\n",
              "    <tr>\n",
              "      <th>0</th>\n",
              "      <td>spam</td>\n",
              "      <td>logtelstra2021.ddnsking.com/0dfa1b53b835500696...</td>\n",
              "      <td>['logtelstra2021', 'ddnsking', 'com', '0dfa1b5...</td>\n",
              "      <td>logtelstra2021 ddnsking com 0dfa1b53b835500696...</td>\n",
              "    </tr>\n",
              "    <tr>\n",
              "      <th>1</th>\n",
              "      <td>spam</td>\n",
              "      <td>dvsber.ru/modules/mod_ariimageslidersa/KRENK3N...</td>\n",
              "      <td>['dvsber', 'ru', 'module', 'mod', 'ariimagesli...</td>\n",
              "      <td>dvsber ru module mod ariimageslidersa krenk3n4...</td>\n",
              "    </tr>\n",
              "    <tr>\n",
              "      <th>2</th>\n",
              "      <td>spam</td>\n",
              "      <td>kimsinc564.000webhostapp.com/notification.php?...</td>\n",
              "      <td>['kimsinc564', '000webhostapp', 'com', 'notifi...</td>\n",
              "      <td>kimsinc564 000webhostapp com notification php ...</td>\n",
              "    </tr>\n",
              "    <tr>\n",
              "      <th>3</th>\n",
              "      <td>spam</td>\n",
              "      <td>benjim.com/all</td>\n",
              "      <td>['benjim', 'com']</td>\n",
              "      <td>benjim com</td>\n",
              "    </tr>\n",
              "    <tr>\n",
              "      <th>4</th>\n",
              "      <td>spam</td>\n",
              "      <td>www.m.micesrunescape.com-we.ru/</td>\n",
              "      <td>['micesrunescape', 'com', 'ru']</td>\n",
              "      <td>micesrunescape com ru</td>\n",
              "    </tr>\n",
              "  </tbody>\n",
              "</table>\n",
              "</div>\n",
              "    <div class=\"colab-df-buttons\">\n",
              "\n",
              "  <div class=\"colab-df-container\">\n",
              "    <button class=\"colab-df-convert\" onclick=\"convertToInteractive('df-7fcd0107-2907-470f-ab1d-1b47f6b2aa71')\"\n",
              "            title=\"Convert this dataframe to an interactive table.\"\n",
              "            style=\"display:none;\">\n",
              "\n",
              "  <svg xmlns=\"http://www.w3.org/2000/svg\" height=\"24px\" viewBox=\"0 -960 960 960\">\n",
              "    <path d=\"M120-120v-720h720v720H120Zm60-500h600v-160H180v160Zm220 220h160v-160H400v160Zm0 220h160v-160H400v160ZM180-400h160v-160H180v160Zm440 0h160v-160H620v160ZM180-180h160v-160H180v160Zm440 0h160v-160H620v160Z\"/>\n",
              "  </svg>\n",
              "    </button>\n",
              "\n",
              "  <style>\n",
              "    .colab-df-container {\n",
              "      display:flex;\n",
              "      gap: 12px;\n",
              "    }\n",
              "\n",
              "    .colab-df-convert {\n",
              "      background-color: #E8F0FE;\n",
              "      border: none;\n",
              "      border-radius: 50%;\n",
              "      cursor: pointer;\n",
              "      display: none;\n",
              "      fill: #1967D2;\n",
              "      height: 32px;\n",
              "      padding: 0 0 0 0;\n",
              "      width: 32px;\n",
              "    }\n",
              "\n",
              "    .colab-df-convert:hover {\n",
              "      background-color: #E2EBFA;\n",
              "      box-shadow: 0px 1px 2px rgba(60, 64, 67, 0.3), 0px 1px 3px 1px rgba(60, 64, 67, 0.15);\n",
              "      fill: #174EA6;\n",
              "    }\n",
              "\n",
              "    .colab-df-buttons div {\n",
              "      margin-bottom: 4px;\n",
              "    }\n",
              "\n",
              "    [theme=dark] .colab-df-convert {\n",
              "      background-color: #3B4455;\n",
              "      fill: #D2E3FC;\n",
              "    }\n",
              "\n",
              "    [theme=dark] .colab-df-convert:hover {\n",
              "      background-color: #434B5C;\n",
              "      box-shadow: 0px 1px 3px 1px rgba(0, 0, 0, 0.15);\n",
              "      filter: drop-shadow(0px 1px 2px rgba(0, 0, 0, 0.3));\n",
              "      fill: #FFFFFF;\n",
              "    }\n",
              "  </style>\n",
              "\n",
              "    <script>\n",
              "      const buttonEl =\n",
              "        document.querySelector('#df-7fcd0107-2907-470f-ab1d-1b47f6b2aa71 button.colab-df-convert');\n",
              "      buttonEl.style.display =\n",
              "        google.colab.kernel.accessAllowed ? 'block' : 'none';\n",
              "\n",
              "      async function convertToInteractive(key) {\n",
              "        const element = document.querySelector('#df-7fcd0107-2907-470f-ab1d-1b47f6b2aa71');\n",
              "        const dataTable =\n",
              "          await google.colab.kernel.invokeFunction('convertToInteractive',\n",
              "                                                    [key], {});\n",
              "        if (!dataTable) return;\n",
              "\n",
              "        const docLinkHtml = 'Like what you see? Visit the ' +\n",
              "          '<a target=\"_blank\" href=https://colab.research.google.com/notebooks/data_table.ipynb>data table notebook</a>'\n",
              "          + ' to learn more about interactive tables.';\n",
              "        element.innerHTML = '';\n",
              "        dataTable['output_type'] = 'display_data';\n",
              "        await google.colab.output.renderOutput(dataTable, element);\n",
              "        const docLink = document.createElement('div');\n",
              "        docLink.innerHTML = docLinkHtml;\n",
              "        element.appendChild(docLink);\n",
              "      }\n",
              "    </script>\n",
              "  </div>\n",
              "\n",
              "\n",
              "<div id=\"df-ccaee8f9-90d1-411a-97d2-555bce43588d\">\n",
              "  <button class=\"colab-df-quickchart\" onclick=\"quickchart('df-ccaee8f9-90d1-411a-97d2-555bce43588d')\"\n",
              "            title=\"Suggest charts\"\n",
              "            style=\"display:none;\">\n",
              "\n",
              "<svg xmlns=\"http://www.w3.org/2000/svg\" height=\"24px\"viewBox=\"0 0 24 24\"\n",
              "     width=\"24px\">\n",
              "    <g>\n",
              "        <path d=\"M19 3H5c-1.1 0-2 .9-2 2v14c0 1.1.9 2 2 2h14c1.1 0 2-.9 2-2V5c0-1.1-.9-2-2-2zM9 17H7v-7h2v7zm4 0h-2V7h2v10zm4 0h-2v-4h2v4z\"/>\n",
              "    </g>\n",
              "</svg>\n",
              "  </button>\n",
              "\n",
              "<style>\n",
              "  .colab-df-quickchart {\n",
              "      --bg-color: #E8F0FE;\n",
              "      --fill-color: #1967D2;\n",
              "      --hover-bg-color: #E2EBFA;\n",
              "      --hover-fill-color: #174EA6;\n",
              "      --disabled-fill-color: #AAA;\n",
              "      --disabled-bg-color: #DDD;\n",
              "  }\n",
              "\n",
              "  [theme=dark] .colab-df-quickchart {\n",
              "      --bg-color: #3B4455;\n",
              "      --fill-color: #D2E3FC;\n",
              "      --hover-bg-color: #434B5C;\n",
              "      --hover-fill-color: #FFFFFF;\n",
              "      --disabled-bg-color: #3B4455;\n",
              "      --disabled-fill-color: #666;\n",
              "  }\n",
              "\n",
              "  .colab-df-quickchart {\n",
              "    background-color: var(--bg-color);\n",
              "    border: none;\n",
              "    border-radius: 50%;\n",
              "    cursor: pointer;\n",
              "    display: none;\n",
              "    fill: var(--fill-color);\n",
              "    height: 32px;\n",
              "    padding: 0;\n",
              "    width: 32px;\n",
              "  }\n",
              "\n",
              "  .colab-df-quickchart:hover {\n",
              "    background-color: var(--hover-bg-color);\n",
              "    box-shadow: 0 1px 2px rgba(60, 64, 67, 0.3), 0 1px 3px 1px rgba(60, 64, 67, 0.15);\n",
              "    fill: var(--button-hover-fill-color);\n",
              "  }\n",
              "\n",
              "  .colab-df-quickchart-complete:disabled,\n",
              "  .colab-df-quickchart-complete:disabled:hover {\n",
              "    background-color: var(--disabled-bg-color);\n",
              "    fill: var(--disabled-fill-color);\n",
              "    box-shadow: none;\n",
              "  }\n",
              "\n",
              "  .colab-df-spinner {\n",
              "    border: 2px solid var(--fill-color);\n",
              "    border-color: transparent;\n",
              "    border-bottom-color: var(--fill-color);\n",
              "    animation:\n",
              "      spin 1s steps(1) infinite;\n",
              "  }\n",
              "\n",
              "  @keyframes spin {\n",
              "    0% {\n",
              "      border-color: transparent;\n",
              "      border-bottom-color: var(--fill-color);\n",
              "      border-left-color: var(--fill-color);\n",
              "    }\n",
              "    20% {\n",
              "      border-color: transparent;\n",
              "      border-left-color: var(--fill-color);\n",
              "      border-top-color: var(--fill-color);\n",
              "    }\n",
              "    30% {\n",
              "      border-color: transparent;\n",
              "      border-left-color: var(--fill-color);\n",
              "      border-top-color: var(--fill-color);\n",
              "      border-right-color: var(--fill-color);\n",
              "    }\n",
              "    40% {\n",
              "      border-color: transparent;\n",
              "      border-right-color: var(--fill-color);\n",
              "      border-top-color: var(--fill-color);\n",
              "    }\n",
              "    60% {\n",
              "      border-color: transparent;\n",
              "      border-right-color: var(--fill-color);\n",
              "    }\n",
              "    80% {\n",
              "      border-color: transparent;\n",
              "      border-right-color: var(--fill-color);\n",
              "      border-bottom-color: var(--fill-color);\n",
              "    }\n",
              "    90% {\n",
              "      border-color: transparent;\n",
              "      border-bottom-color: var(--fill-color);\n",
              "    }\n",
              "  }\n",
              "</style>\n",
              "\n",
              "  <script>\n",
              "    async function quickchart(key) {\n",
              "      const quickchartButtonEl =\n",
              "        document.querySelector('#' + key + ' button');\n",
              "      quickchartButtonEl.disabled = true;  // To prevent multiple clicks.\n",
              "      quickchartButtonEl.classList.add('colab-df-spinner');\n",
              "      try {\n",
              "        const charts = await google.colab.kernel.invokeFunction(\n",
              "            'suggestCharts', [key], {});\n",
              "      } catch (error) {\n",
              "        console.error('Error during call to suggestCharts:', error);\n",
              "      }\n",
              "      quickchartButtonEl.classList.remove('colab-df-spinner');\n",
              "      quickchartButtonEl.classList.add('colab-df-quickchart-complete');\n",
              "    }\n",
              "    (() => {\n",
              "      let quickchartButtonEl =\n",
              "        document.querySelector('#df-ccaee8f9-90d1-411a-97d2-555bce43588d button');\n",
              "      quickchartButtonEl.style.display =\n",
              "        google.colab.kernel.accessAllowed ? 'block' : 'none';\n",
              "    })();\n",
              "  </script>\n",
              "</div>\n",
              "    </div>\n",
              "  </div>\n"
            ],
            "text/plain": [
              "  Category                                                URL  \\\n",
              "0     spam  logtelstra2021.ddnsking.com/0dfa1b53b835500696...   \n",
              "1     spam  dvsber.ru/modules/mod_ariimageslidersa/KRENK3N...   \n",
              "2     spam  kimsinc564.000webhostapp.com/notification.php?...   \n",
              "3     spam                                     benjim.com/all   \n",
              "4     spam                    www.m.micesrunescape.com-we.ru/   \n",
              "\n",
              "                                           clean_URL  \\\n",
              "0  ['logtelstra2021', 'ddnsking', 'com', '0dfa1b5...   \n",
              "1  ['dvsber', 'ru', 'module', 'mod', 'ariimagesli...   \n",
              "2  ['kimsinc564', '000webhostapp', 'com', 'notifi...   \n",
              "3                                  ['benjim', 'com']   \n",
              "4                    ['micesrunescape', 'com', 'ru']   \n",
              "\n",
              "                                  clean_URL_sentence  \n",
              "0  logtelstra2021 ddnsking com 0dfa1b53b835500696...  \n",
              "1  dvsber ru module mod ariimageslidersa krenk3n4...  \n",
              "2  kimsinc564 000webhostapp com notification php ...  \n",
              "3                                         benjim com  \n",
              "4                              micesrunescape com ru  "
            ]
          },
          "execution_count": 17,
          "metadata": {},
          "output_type": "execute_result"
        }
      ],
      "source": [
        "path = '/content/drive/MyDrive/combined_dataset_url_after_preprocess_v3.csv'\n",
        "\n",
        "df_url = pd.read_csv(path)\n",
        "\n",
        "df_url.head()"
      ]
    },
    {
      "cell_type": "markdown",
      "metadata": {
        "id": "l71EUwijYAG_"
      },
      "source": [
        "# 🎯 **Step 2: Split data into feature and label**\n",
        "---"
      ]
    },
    {
      "cell_type": "code",
      "execution_count": 18,
      "metadata": {
        "id": "ojMdIMY-VHVg"
      },
      "outputs": [],
      "source": [
        "X = df_url['clean_URL_sentence']\n",
        "\n",
        "y = df_url['Category']"
      ]
    },
    {
      "cell_type": "markdown",
      "metadata": {
        "id": "nrntJuWfY6yw"
      },
      "source": [
        "# 🎯 **Step 3: Processing X**\n",
        "---"
      ]
    },
    {
      "cell_type": "markdown",
      "metadata": {
        "id": "-Gl-aku-ZfUz"
      },
      "source": [
        "## ✨ 3.1 - Tokenizing and Padding"
      ]
    },
    {
      "cell_type": "markdown",
      "metadata": {
        "id": "wt_ja6v0B18I"
      },
      "source": [
        "Char Level"
      ]
    },
    {
      "cell_type": "code",
      "execution_count": 19,
      "metadata": {
        "colab": {
          "base_uri": "https://localhost:8080/"
        },
        "id": "UfgIXw-kYPsn",
        "outputId": "0c89049d-0cff-4ee5-a541-f0691d69d8a7"
      },
      "outputs": [
        {
          "data": {
            "text/plain": [
              "array([[13,  4, 20, ...,  0,  0,  0],\n",
              "       [14, 33, 12, ...,  0,  0,  0],\n",
              "       [30,  8,  9, ...,  0,  0,  0],\n",
              "       ...,\n",
              "       [36, 30, 24, ...,  8,  4, 36],\n",
              "       [ 5,  8,  9, ...,  0,  0,  0],\n",
              "       [ 3, 10,  2, ...,  0,  0,  0]], dtype=int32)"
            ]
          },
          "execution_count": 19,
          "metadata": {},
          "output_type": "execute_result"
        }
      ],
      "source": [
        "# X = [str(url) for url in X]\n",
        "\n",
        "tokenizer_char_level = Tokenizer(num_words=6500, oov_token='<OOV>', char_level=True)\n",
        "tokenizer_char_level.fit_on_texts(X)\n",
        "X_sequences_char_level = tokenizer_char_level.texts_to_sequences(X)\n",
        "X_padded_char_level = pad_sequences(X_sequences_char_level, padding='post', truncating='post', maxlen=500)\n",
        "\n",
        "# Build vocabulary\n",
        "vocab_size_char_level = len(tokenizer_char_level.word_index) + 1\n",
        "\n",
        "X_padded_char_level"
      ]
    },
    {
      "cell_type": "code",
      "execution_count": 20,
      "metadata": {
        "colab": {
          "base_uri": "https://localhost:8080/"
        },
        "id": "mFIMe9miCw8j",
        "outputId": "5e86d340-8433-45bc-fc4c-7e65716b6605"
      },
      "outputs": [
        {
          "data": {
            "text/plain": [
              "39"
            ]
          },
          "execution_count": 20,
          "metadata": {},
          "output_type": "execute_result"
        }
      ],
      "source": [
        "vocab_size_char_level"
      ]
    },
    {
      "cell_type": "code",
      "execution_count": 21,
      "metadata": {
        "colab": {
          "base_uri": "https://localhost:8080/"
        },
        "id": "zDHFYhuFCRRe",
        "outputId": "07cfa6fb-fe96-44d7-cfe3-ae697c8fd1eb"
      },
      "outputs": [
        {
          "data": {
            "text/plain": [
              "38"
            ]
          },
          "execution_count": 21,
          "metadata": {},
          "output_type": "execute_result"
        }
      ],
      "source": [
        "len(tokenizer_char_level.word_index)"
      ]
    },
    {
      "cell_type": "code",
      "execution_count": 22,
      "metadata": {
        "colab": {
          "base_uri": "https://localhost:8080/"
        },
        "id": "6OCrLIdFC7i6",
        "outputId": "f1c80cae-681d-4a65-bca2-20ec2cc3ab02"
      },
      "outputs": [
        {
          "data": {
            "text/plain": [
              "{'<OOV>': 1,\n",
              " ' ': 2,\n",
              " 'e': 3,\n",
              " 'o': 4,\n",
              " 'a': 5,\n",
              " 'c': 6,\n",
              " 't': 7,\n",
              " 'i': 8,\n",
              " 'm': 9,\n",
              " 'n': 10,\n",
              " 'r': 11,\n",
              " 's': 12,\n",
              " 'l': 13,\n",
              " 'd': 14,\n",
              " 'p': 15,\n",
              " 'h': 16,\n",
              " 'u': 17,\n",
              " 'f': 18,\n",
              " 'b': 19,\n",
              " 'g': 20,\n",
              " '2': 21,\n",
              " '0': 22,\n",
              " '1': 23,\n",
              " '3': 24,\n",
              " 'w': 25,\n",
              " '4': 26,\n",
              " '6': 27,\n",
              " '5': 28,\n",
              " 'y': 29,\n",
              " 'k': 30,\n",
              " '9': 31,\n",
              " '8': 32,\n",
              " 'v': 33,\n",
              " '7': 34,\n",
              " 'x': 35,\n",
              " 'j': 36,\n",
              " 'z': 37,\n",
              " 'q': 38}"
            ]
          },
          "execution_count": 22,
          "metadata": {},
          "output_type": "execute_result"
        }
      ],
      "source": [
        "tokenizer_char_level.word_index"
      ]
    },
    {
      "cell_type": "markdown",
      "metadata": {
        "id": "drtGwJPzB38b"
      },
      "source": [
        "Word Level"
      ]
    },
    {
      "cell_type": "code",
      "execution_count": 23,
      "metadata": {
        "colab": {
          "base_uri": "https://localhost:8080/"
        },
        "id": "5ilN6bmmB681",
        "outputId": "7bd075d6-5e34-45ff-d312-017042d5648c"
      },
      "outputs": [
        {
          "data": {
            "text/plain": [
              "array([[ 976,  886,    2, ...,    0,    0,    0],\n",
              "       [2079,   18,  253, ...,    0,    0,    0],\n",
              "       [   1,   29,    2, ...,    0,    0,    0],\n",
              "       ...,\n",
              "       [   1,   63,  134, ...,    0,    0,    0],\n",
              "       [ 610,   12,   25, ...,    0,    0,    0],\n",
              "       [  19,  131,    4, ...,    0,    0,    0]], dtype=int32)"
            ]
          },
          "execution_count": 23,
          "metadata": {},
          "output_type": "execute_result"
        }
      ],
      "source": [
        "tokenizer_word_level = Tokenizer(num_words=6500, oov_token='<OOV>')\n",
        "tokenizer_word_level.fit_on_texts(X)\n",
        "X_sequences_word_level = tokenizer_word_level.texts_to_sequences(X)\n",
        "X_padded_word_level = pad_sequences(X_sequences_word_level, padding='post', truncating='post', maxlen=500)\n",
        "\n",
        "# Build vocabulary\n",
        "vocab_size_word_level = len(tokenizer_word_level.word_index) + 1\n",
        "\n",
        "X_padded_word_level"
      ]
    },
    {
      "cell_type": "code",
      "execution_count": 24,
      "metadata": {
        "colab": {
          "base_uri": "https://localhost:8080/"
        },
        "id": "TWKKZu7pDMHV",
        "outputId": "3b3905f8-7f5d-473f-f766-44e6e61ee054"
      },
      "outputs": [
        {
          "data": {
            "text/plain": [
              "61603"
            ]
          },
          "execution_count": 24,
          "metadata": {},
          "output_type": "execute_result"
        }
      ],
      "source": [
        "vocab_size_word_level"
      ]
    },
    {
      "cell_type": "code",
      "execution_count": 25,
      "metadata": {
        "colab": {
          "base_uri": "https://localhost:8080/"
        },
        "id": "FV-reWd_QLEZ",
        "outputId": "e2da5299-d5cb-4fa1-94ab-c5e9ff51dd2b"
      },
      "outputs": [
        {
          "data": {
            "text/plain": [
              "61602"
            ]
          },
          "execution_count": 25,
          "metadata": {},
          "output_type": "execute_result"
        }
      ],
      "source": [
        "len(tokenizer_word_level.word_index)"
      ]
    },
    {
      "cell_type": "markdown",
      "metadata": {
        "id": "q1eF54y6dWpJ"
      },
      "source": [
        "# 🎯 **Step 4: Processing y**\n",
        "---"
      ]
    },
    {
      "cell_type": "code",
      "execution_count": 26,
      "metadata": {
        "colab": {
          "base_uri": "https://localhost:8080/"
        },
        "id": "-CkAKcbrdnR2",
        "outputId": "64ec1366-6a70-4d48-d3f7-02999383dfdc"
      },
      "outputs": [
        {
          "data": {
            "text/plain": [
              "0        1\n",
              "1        1\n",
              "2        1\n",
              "3        1\n",
              "4        1\n",
              "        ..\n",
              "44073    0\n",
              "44074    1\n",
              "44075    1\n",
              "44076    1\n",
              "44077    0\n",
              "Name: Category, Length: 44078, dtype: int64"
            ]
          },
          "execution_count": 26,
          "metadata": {},
          "output_type": "execute_result"
        }
      ],
      "source": [
        "position_mapping = {'spam': 1, 'ham': 0}\n",
        "\n",
        "y = y.map(position_mapping)\n",
        "\n",
        "y"
      ]
    },
    {
      "cell_type": "markdown",
      "metadata": {
        "id": "SJx1vcm4eWc_"
      },
      "source": [
        "# 🎯 **Step 5: Split data into train and test**\n",
        "---"
      ]
    },
    {
      "cell_type": "code",
      "execution_count": 27,
      "metadata": {
        "id": "fw4rcNr3dOC3"
      },
      "outputs": [],
      "source": [
        "X_padded_cl_train, X_padded_cl_test, X_padded_wl_train, X_padded_wl_test, y_train, y_test = train_test_split(X_padded_char_level, X_padded_word_level, y, test_size=0.2, random_state=42)\n"
      ]
    },
    {
      "cell_type": "code",
      "execution_count": 28,
      "metadata": {
        "colab": {
          "base_uri": "https://localhost:8080/"
        },
        "id": "lyXRvVwiIc0o",
        "outputId": "d92c5551-00b9-44ca-a86e-fc4189e66548"
      },
      "outputs": [
        {
          "data": {
            "text/plain": [
              "(35262, 35262)"
            ]
          },
          "execution_count": 28,
          "metadata": {},
          "output_type": "execute_result"
        }
      ],
      "source": [
        "len(X_padded_cl_train), len(X_padded_wl_train)"
      ]
    },
    {
      "cell_type": "code",
      "execution_count": 29,
      "metadata": {
        "colab": {
          "base_uri": "https://localhost:8080/"
        },
        "id": "U5RB0nuBQbzT",
        "outputId": "a914962a-e39f-4db1-e44e-7969c40d5c5b"
      },
      "outputs": [
        {
          "data": {
            "text/plain": [
              "((35262, 500), (35262, 500))"
            ]
          },
          "execution_count": 29,
          "metadata": {},
          "output_type": "execute_result"
        }
      ],
      "source": [
        "X_padded_cl_train.shape, X_padded_wl_train.shape"
      ]
    },
    {
      "cell_type": "code",
      "execution_count": 30,
      "metadata": {
        "colab": {
          "base_uri": "https://localhost:8080/"
        },
        "id": "SbIKnW12eiKp",
        "outputId": "7098d968-759e-429a-c6bd-cdeac00dcd8d"
      },
      "outputs": [
        {
          "data": {
            "text/plain": [
              "Counter({1: 17167, 0: 18095})"
            ]
          },
          "execution_count": 30,
          "metadata": {},
          "output_type": "execute_result"
        }
      ],
      "source": [
        "Counter(y_train)"
      ]
    },
    {
      "cell_type": "markdown",
      "metadata": {
        "id": "q_6LoBNTgbFJ"
      },
      "source": [
        "# 🎯 **Step 5: Create model**\n",
        "---"
      ]
    },
    {
      "cell_type": "code",
      "execution_count": 21,
      "metadata": {
        "id": "f2_oSsnWL6zl"
      },
      "outputs": [],
      "source": [
        "# from tensorflow.keras.layers import Layer\n",
        "# from tensorflow.keras import backend as K, initializers, regularizers, constraints\n",
        "\n",
        "\n",
        "# class Attention_layer(Layer):\n",
        "#     \"\"\"\n",
        "#         Attention operation, with a context/query vector, for temporal data.\n",
        "#         Supports Masking.\n",
        "#         Follows the work of Yang et al. [https://www.cs.cmu.edu/~diyiy/docs/naacl16.pdf]\n",
        "#         \"Hierarchical Attention Networks for Document Classification\"\n",
        "#         by using a context vector to assist the attention\n",
        "#         # Input shape\n",
        "#             3D tensor with shape: `(samples, steps, features)`.\n",
        "#         # Output shape\n",
        "#             2D tensor with shape: `(samples, features)`.\n",
        "#         :param kwargs:\n",
        "#         Just put it on top of an RNN Layer (GRU/LSTM/SimpleRNN) with return_sequences=True.\n",
        "#         The dimensions are inferred based on the output shape of the RNN.\n",
        "#         Example:\n",
        "#             model.add(LSTM(64, return_sequences=True))\n",
        "#             model.add(AttentionWithContext())\n",
        "#         \"\"\"\n",
        "\n",
        "#     def __init__(self,\n",
        "#                  W_regularizer=None, b_regularizer=None,\n",
        "#                  W_constraint=None, b_constraint=None,\n",
        "#                  bias=True, **kwargs):\n",
        "\n",
        "#         self.supports_masking = True\n",
        "#         self.init = initializers.get('glorot_uniform')\n",
        "\n",
        "#         self.W_regularizer = regularizers.get(W_regularizer)\n",
        "#         self.b_regularizer = regularizers.get(b_regularizer)\n",
        "\n",
        "#         self.W_constraint = constraints.get(W_constraint)\n",
        "#         self.b_constraint = constraints.get(b_constraint)\n",
        "\n",
        "#         self.bias = bias\n",
        "#         super(Attention_layer, self).__init__(**kwargs)\n",
        "\n",
        "#     # def build(self, input_shape):\n",
        "#     #     assert len(input_shape) == 3\n",
        "\n",
        "#     #     self.W = self.add_weight((input_shape[-1], input_shape[-1],),\n",
        "#     #                              initializer=self.init,\n",
        "#     #                              name='{}_W'.format(self.name),\n",
        "#     #                              regularizer=self.W_regularizer,\n",
        "#     #                              constraint=self.W_constraint)\n",
        "#     #     if self.bias:\n",
        "#     #         self.b = self.add_weight((input_shape[-1],),\n",
        "#     #                                  initializer='zero',\n",
        "#     #                                  name='{}_b'.format(self.name),\n",
        "#     #                                  regularizer=self.b_regularizer,\n",
        "#     #                                  constraint=self.b_constraint)\n",
        "\n",
        "#     #     super(Attention_layer, self).build(input_shape)\n",
        "\n",
        "#     def build(self, input_shape):\n",
        "#         assert len(input_shape) == 3\n",
        "\n",
        "#         self.W = self.add_weight(shape=(input_shape[-1], input_shape[-1],),\n",
        "#                                 initializer=self.init,\n",
        "#                                 name='{}_W'.format(self.name),  # Hanya satu kali penambahan argumen name\n",
        "#                                 regularizer=self.W_regularizer,\n",
        "#                                 constraint=self.W_constraint)\n",
        "#         if self.bias:\n",
        "#             self.b = self.add_weight(shape=(input_shape[-1],),\n",
        "#                                     initializer='zero',\n",
        "#                                     name='{}_b'.format(self.name),\n",
        "#                                     regularizer=self.b_regularizer,\n",
        "#                                     constraint=self.b_constraint)\n",
        "\n",
        "#         super(Attention_layer, self).build(input_shape)\n",
        "\n",
        "#     def compute_mask(self, input, input_mask=None):\n",
        "#         # do not pass the mask to the next layers\n",
        "#         return None\n",
        "\n",
        "#     def call(self, x, mask=None):\n",
        "#         uit = K.dot(x, self.W)\n",
        "\n",
        "#         if self.bias:\n",
        "#             uit += self.b\n",
        "\n",
        "#         uit = K.tanh(uit)\n",
        "\n",
        "#         a = K.exp(uit)\n",
        "\n",
        "#         # apply mask after the exp. will be re-normalized next\n",
        "#         if mask is not None:\n",
        "#             # Cast the mask to floatX to avoid float64 upcasting in theano\n",
        "#             a *= K.cast(mask, K.floatx())\n",
        "\n",
        "#         # in some cases especially in the early stages of training the sum may be almost zero\n",
        "#         # and this results in NaN's. A workaround is to add a very small positive number to the sum.\n",
        "#         # a /= K.cast(K.sum(a, axis=1, keepdims=True), K.floatx())\n",
        "#         a /= K.cast(K.sum(a, axis=1, keepdims=True) + K.epsilon(), K.floatx())\n",
        "#         # print (a)\n",
        "#         # a = K.expand_dims(a)\n",
        "#         # print(x)\n",
        "#         weighted_input = x * a\n",
        "#         # print(weighted_input)\n",
        "#         return K.sum(weighted_input, axis=1)\n",
        "\n",
        "#     def compute_output_shape(self, input_shape):\n",
        "#         return (input_shape[0], input_shape[-1])"
      ]
    },
    {
      "cell_type": "code",
      "execution_count": 22,
      "metadata": {
        "id": "rhVCVAmTYv44"
      },
      "outputs": [],
      "source": [
        "# epochs = 10             #epochs\n",
        "# batch_size = 64         #batch\n",
        "# lstm_output_size=128    #LSTM Unit\n",
        "# Embedding_dim=128       #dimension\n",
        "# lr=1e-4                 #Learning Rate\n",
        "# kernel_size=5           #CNN kernel_size\n",
        "# filters=256             #CNN filters\n",
        "# pool_size=4             #CNN pool_size"
      ]
    },
    {
      "cell_type": "code",
      "execution_count": 23,
      "metadata": {
        "id": "5ClWrNqaQ5eg"
      },
      "outputs": [],
      "source": [
        "# def lstm_conv(emb_dim=Embedding_dim, lstm_output_size=lstm_output_size, W_reg=regularizers.l2(1e-4)):\n",
        "#     # Input url_char\n",
        "#     input_url_char = Input(shape=(X_padded_cl_train.shape[1],), dtype='int32', name='url_char_input')\n",
        "#     # Embedding layer\n",
        "#     emb_url_char = Embedding(input_dim=min(6500, len(tokenizer_char_level.word_index) + 1), output_dim=emb_dim, input_length=X_padded_cl_train.shape[1], embeddings_regularizer=W_reg)(input_url_char)\n",
        "\n",
        "#     #input url_word\n",
        "#     input_url_word = Input(shape=(X_padded_wl_train.shape[1],), dtype='int32', name='url_word_input')\n",
        "#     # Embedding layer\n",
        "#     emb_url_word = Embedding(input_dim=min(6500, len(tokenizer_word_level.word_index) + 1), output_dim=emb_dim, input_length=X_padded_cl_train.shape[1], embeddings_regularizer=W_reg)(input_url_word)\n",
        "\n",
        "#     #url_char_model\n",
        "#     emb_url_char = Dropout(0.5)(emb_url_char)\n",
        "#     conv1 = Conv1D(kernel_size=10, filters=128, activation='relu')(emb_url_char)\n",
        "#     # conv1 = ELU()(conv1)\n",
        "#     conv1 = MaxPooling1D(pool_size = 2)(conv1)\n",
        "#     conv1 = Dropout(0.5)(conv1)\n",
        "#     lstm1 = Bidirectional(LSTM(lstm_output_size, return_sequences=True))(conv1)\n",
        "\n",
        "#     lstm1= Dropout(0.3)(lstm1)\n",
        "#     lstm1 = Attention_layer()(lstm1)\n",
        "\n",
        "#     # url_word_model\n",
        "\n",
        "#     emb_url_word = Dropout(0.5)(emb_url_word)\n",
        "#     conv2 = Conv1D(kernel_size=10, filters=128, activation='relu')(emb_url_word)\n",
        "#     # conv2 = ELU()(conv2)\n",
        "#     conv2 = MaxPooling1D(pool_size=2)(conv2)\n",
        "#     conv2 = Dropout(0.5)(conv2)\n",
        "#     lstm2 = Bidirectional(LSTM(lstm_output_size, return_sequences=True))(conv2)\n",
        "\n",
        "#     lstm2 = Dropout(0.3)(lstm2)\n",
        "#     lstm2 = Attention_layer()(lstm2)\n",
        "\n",
        "#     #concatenate\n",
        "#     #concatenate\n",
        "#     x_url_output = Concatenate(axis=1)([lstm1, lstm2])\n",
        "\n",
        "#     #x_url_output = Dense(128, activation='relu')(x_url_output)\n",
        "\n",
        "#     # print('x.shape',x.shape)\n",
        "#     #x=Flatten()(x)\n",
        "#     x=Dense(256, activation='relu')(x_url_output)\n",
        "#     x=Dense(128, activation='relu')(x)\n",
        "#     x=Dense(64, activation='relu')(x)\n",
        "#     # print('x.shape', x.shape)\n",
        "#     output = Dense(1, activation='sigmoid', name='output')(x)\n",
        "\n",
        "#     # Compile model and define optimizer\n",
        "#     model = Model(inputs=[input_url_char, input_url_word], outputs=[output])\n",
        "\n",
        "#     # adam = Adam(lr=lr, beta_1=0.9, beta_2=0.999, epsilon=1e-08, decay=0.0)\n",
        "#     adam = Adam(learning_rate=lr, beta_1=0.9, beta_2=0.999, epsilon=1e-08)\n",
        "#     model.compile(optimizer=adam, loss='binary_crossentropy', metrics=['accuracy'])\n",
        "#     return model"
      ]
    },
    {
      "cell_type": "code",
      "execution_count": 31,
      "metadata": {
        "id": "qoau5c2xe6d6"
      },
      "outputs": [],
      "source": [
        "max_url_length = 500\n",
        "max_words = 6500\n",
        "embedding_dim = 32\n",
        "kernel_size = 10\n",
        "conv_filters = 128\n",
        "learning_rate = 0.0005\n",
        "dense_units_1 = 128\n",
        "dense_units_2 = 64\n",
        "\n",
        "def create_model():\n",
        "    # Adjusted hyperparameters\n",
        "    embedding_dim = 32  # Increased embedding dimension\n",
        "    conv_filters = 128  # Increased number of filters in convolutional layers\n",
        "    kernel_size = 10 # Increased kernel size\n",
        "    dense_units_1 = 128\n",
        "    dense_units_2 = 64\n",
        "    learning_rate = 0.0005  # Adjusted learning rate\n",
        "\n",
        "    # Model architecture\n",
        "    url_cl_input = layers.Input(shape=(max_url_length,), name='url_cl_input')\n",
        "    url_cl_embedding = layers.Embedding(input_dim=min(max_words, len(tokenizer_char_level.word_index) + 1),\n",
        "                                     output_dim=embedding_dim, input_length=max_url_length, name='url_cl_embedding')(url_cl_input)\n",
        "    url_cl_conv = layers.Conv1D(filters=conv_filters, kernel_size=kernel_size, activation='relu')(url_cl_embedding)\n",
        "    url_cl_pool = layers.MaxPooling1D(pool_size=2)(url_cl_conv)\n",
        "    url_cl_flat = layers.Flatten()(url_cl_pool)\n",
        "\n",
        "    url_wl_input = layers.Input(shape=(max_url_length,), name='url_wl_input')\n",
        "    url_wl_embedding = layers.Embedding(input_dim=min(max_words, len(tokenizer_word_level.word_index) + 1),\n",
        "                                     output_dim=embedding_dim, input_length=max_url_length, name='url_wl_embedding')(url_wl_input)\n",
        "    url_wl_conv = layers.Conv1D(filters=conv_filters, kernel_size=kernel_size, activation='relu')(url_wl_embedding)\n",
        "    url_wl_pool = layers.MaxPooling1D(pool_size=2)(url_wl_conv)\n",
        "    url_wl_flat = layers.Flatten()(url_wl_pool)\n",
        "\n",
        "    concatenated = layers.Concatenate(name='concatenate_layer')([url_cl_flat, url_wl_flat])\n",
        "    dense1 = layers.Dense(dense_units_1, activation='relu', name='dense1')(concatenated)\n",
        "    dense2 = layers.Dense(dense_units_2, activation='relu', name='dense2')(dense1)\n",
        "    output = layers.Dense(1, activation='sigmoid', name='output_layer')(dense2)\n",
        "\n",
        "    # Model compilation with directly imported metrics\n",
        "    model = models.Model(inputs=[url_cl_input, url_wl_input], outputs=output)\n",
        "    model.compile(optimizer=optimizers.Adam(learning_rate=learning_rate),\n",
        "                  loss='binary_crossentropy',\n",
        "                  metrics=['accuracy', Precision(), Recall()])\n",
        "\n",
        "    return model"
      ]
    },
    {
      "cell_type": "code",
      "execution_count": 32,
      "metadata": {
        "id": "wU_1NtX6hpOh"
      },
      "outputs": [],
      "source": [
        "# Create the model\n",
        "model = create_model()"
      ]
    },
    {
      "cell_type": "code",
      "execution_count": 33,
      "metadata": {
        "colab": {
          "base_uri": "https://localhost:8080/"
        },
        "id": "kzbMy_M-jfCb",
        "outputId": "81cf6156-a25e-4676-f09e-512a8af05723"
      },
      "outputs": [
        {
          "name": "stdout",
          "output_type": "stream",
          "text": [
            "Model: \"model\"\n",
            "__________________________________________________________________________________________________\n",
            " Layer (type)                Output Shape                 Param #   Connected to                  \n",
            "==================================================================================================\n",
            " url_cl_input (InputLayer)   [(None, 500)]                0         []                            \n",
            "                                                                                                  \n",
            " url_wl_input (InputLayer)   [(None, 500)]                0         []                            \n",
            "                                                                                                  \n",
            " url_cl_embedding (Embeddin  (None, 500, 32)              1248      ['url_cl_input[0][0]']        \n",
            " g)                                                                                               \n",
            "                                                                                                  \n",
            " url_wl_embedding (Embeddin  (None, 500, 32)              208000    ['url_wl_input[0][0]']        \n",
            " g)                                                                                               \n",
            "                                                                                                  \n",
            " conv1d (Conv1D)             (None, 491, 128)             41088     ['url_cl_embedding[0][0]']    \n",
            "                                                                                                  \n",
            " conv1d_1 (Conv1D)           (None, 491, 128)             41088     ['url_wl_embedding[0][0]']    \n",
            "                                                                                                  \n",
            " max_pooling1d (MaxPooling1  (None, 245, 128)             0         ['conv1d[0][0]']              \n",
            " D)                                                                                               \n",
            "                                                                                                  \n",
            " max_pooling1d_1 (MaxPoolin  (None, 245, 128)             0         ['conv1d_1[0][0]']            \n",
            " g1D)                                                                                             \n",
            "                                                                                                  \n",
            " flatten (Flatten)           (None, 31360)                0         ['max_pooling1d[0][0]']       \n",
            "                                                                                                  \n",
            " flatten_1 (Flatten)         (None, 31360)                0         ['max_pooling1d_1[0][0]']     \n",
            "                                                                                                  \n",
            " concatenate_layer (Concate  (None, 62720)                0         ['flatten[0][0]',             \n",
            " nate)                                                               'flatten_1[0][0]']           \n",
            "                                                                                                  \n",
            " dense1 (Dense)              (None, 128)                  8028288   ['concatenate_layer[0][0]']   \n",
            "                                                                                                  \n",
            " dense2 (Dense)              (None, 64)                   8256      ['dense1[0][0]']              \n",
            "                                                                                                  \n",
            " output_layer (Dense)        (None, 1)                    65        ['dense2[0][0]']              \n",
            "                                                                                                  \n",
            "==================================================================================================\n",
            "Total params: 8328033 (31.77 MB)\n",
            "Trainable params: 8328033 (31.77 MB)\n",
            "Non-trainable params: 0 (0.00 Byte)\n",
            "__________________________________________________________________________________________________\n"
          ]
        }
      ],
      "source": [
        "model.summary()"
      ]
    },
    {
      "cell_type": "code",
      "execution_count": 34,
      "metadata": {
        "id": "qNwu1PwqGR_T"
      },
      "outputs": [],
      "source": [
        "# Early stopping to prevent overfitting\n",
        "early_stopping = EarlyStopping(monitor='val_loss', patience=3, restore_best_weights=True)"
      ]
    },
    {
      "cell_type": "code",
      "execution_count": 35,
      "metadata": {
        "colab": {
          "base_uri": "https://localhost:8080/"
        },
        "id": "kFoRGvwelrDp",
        "outputId": "33a87983-62eb-433c-faaf-6a34091567ad"
      },
      "outputs": [
        {
          "name": "stdout",
          "output_type": "stream",
          "text": [
            "Epoch 1/25\n",
            "4408/4408 [==============================] - 52s 10ms/step - loss: 0.1487 - accuracy: 0.9386 - precision: 0.9527 - recall: 0.9196 - val_loss: 0.1050 - val_accuracy: 0.9604 - val_precision: 0.9384 - val_recall: 0.9818\n",
            "Epoch 2/25\n",
            "4408/4408 [==============================] - 30s 7ms/step - loss: 0.0646 - accuracy: 0.9769 - precision: 0.9819 - recall: 0.9706 - val_loss: 0.0803 - val_accuracy: 0.9707 - val_precision: 0.9818 - val_recall: 0.9567\n",
            "Epoch 3/25\n",
            "4408/4408 [==============================] - 33s 7ms/step - loss: 0.0434 - accuracy: 0.9847 - precision: 0.9889 - recall: 0.9795 - val_loss: 0.0892 - val_accuracy: 0.9711 - val_precision: 0.9660 - val_recall: 0.9740\n"
          ]
        }
      ],
      "source": [
        "history = model.fit(\n",
        "    [X_padded_cl_train, X_padded_wl_train], y_train,\n",
        "    epochs=25,\n",
        "    batch_size=8,\n",
        "    validation_data=([X_padded_cl_test, X_padded_wl_test], y_test),\n",
        "    callbacks=[EarlyStopping(monitor='val_loss', min_delta=0.0001)]\n",
        ")"
      ]
    },
    {
      "cell_type": "code",
      "execution_count": 36,
      "metadata": {
        "colab": {
          "base_uri": "https://localhost:8080/"
        },
        "id": "x2EP8OMmNZsW",
        "outputId": "80fc20ef-13dc-43b0-b31f-89944435094e"
      },
      "outputs": [
        {
          "name": "stderr",
          "output_type": "stream",
          "text": [
            "/usr/local/lib/python3.10/dist-packages/keras/src/engine/training.py:3103: UserWarning: You are saving your model as an HDF5 file via `model.save()`. This file format is considered legacy. We recommend using instead the native Keras format, e.g. `model.save('my_model.keras')`.\n",
            "  saving_api.save_model(\n"
          ]
        }
      ],
      "source": [
        "model.save('/content/drive/MyDrive/URL_BYLL_Model_v1.h5')"
      ]
    },
    {
      "cell_type": "code",
      "execution_count": 37,
      "metadata": {
        "colab": {
          "base_uri": "https://localhost:8080/",
          "height": 496
        },
        "id": "sdevuoainQrO",
        "outputId": "0be9a56c-d33f-4422-fdef-6eb217837ca3"
      },
      "outputs": [
        {
          "data": {
            "image/png": "[encoded data removed]",
            "text/plain": [
              "<Figure size 800x500 with 1 Axes>"
            ]
          },
          "metadata": {},
          "output_type": "display_data"
        }
      ],
      "source": [
        "plt.figure(figsize=[8,5])\n",
        "plt.plot(history.history['accuracy'], 'r')\n",
        "plt.plot(history.history['val_accuracy'], 'b')\n",
        "plt.legend(['Training Acc', 'Validation Acc'])\n",
        "plt.xlabel('Epochs', fontsize=16)\n",
        "plt.ylabel('Accuracy', fontsize=16)\n",
        "plt.title('Accuracy Curves', fontsize=16)\n",
        "\n",
        "plt.show()"
      ]
    },
    {
      "cell_type": "code",
      "execution_count": 38,
      "metadata": {
        "colab": {
          "base_uri": "https://localhost:8080/",
          "height": 496
        },
        "id": "9aWNAGkgtTlI",
        "outputId": "f3fe319d-3282-4bf0-9e12-7b71172e00aa"
      },
      "outputs": [
        {
          "data": {
            "image/png": "[encoded data removed]",
            "text/plain": [
              "<Figure size 800x500 with 1 Axes>"
            ]
          },
          "metadata": {},
          "output_type": "display_data"
        }
      ],
      "source": [
        "plt.figure(figsize=[8,5])\n",
        "plt.plot(history.history['loss'], 'r')\n",
        "plt.plot(history.history['val_loss'], 'b')\n",
        "plt.legend(['Training Loss', 'Validation Loss'])\n",
        "plt.xlabel('Epochs', fontsize=16)\n",
        "plt.ylabel('Loss', fontsize=16)\n",
        "plt.title('Loss Curves', fontsize=16)\n",
        "\n",
        "plt.show()"
      ]
    },
    {
      "cell_type": "code",
      "execution_count": 39,
      "metadata": {
        "colab": {
          "base_uri": "https://localhost:8080/"
        },
        "id": "3rMPYGxptZ4q",
        "outputId": "2e163ab9-c310-45ff-be99-dd3ba09fff4b"
      },
      "outputs": [
        {
          "name": "stdout",
          "output_type": "stream",
          "text": [
            "276/276 [==============================] - 1s 2ms/step\n"
          ]
        }
      ],
      "source": [
        "y_pred_prob = model.predict([X_padded_cl_test, X_padded_wl_test])\n",
        "y_pred = (y_pred_prob > 0.5).astype(int)"
      ]
    },
    {
      "cell_type": "code",
      "execution_count": 40,
      "metadata": {
        "id": "DkvHkhQo_WI1"
      },
      "outputs": [],
      "source": [
        "accuracy = accuracy_score(y_test, y_pred)\n",
        "precision = precision_score(y_test, y_pred)\n",
        "recall = recall_score(y_test, y_pred)\n",
        "f1 = f1_score(y_test, y_pred)"
      ]
    },
    {
      "cell_type": "code",
      "execution_count": 41,
      "metadata": {
        "colab": {
          "base_uri": "https://localhost:8080/"
        },
        "id": "7eIQyPF9_sM8",
        "outputId": "ffab2635-8310-4af9-a400-304c7f2cde18"
      },
      "outputs": [
        {
          "name": "stdout",
          "output_type": "stream",
          "text": [
            "accuracy: 0.9710753176043557\n",
            "precision: 0.965954449401268\n",
            "recall: 0.9739583333333334\n",
            "f1: 0.9699398797595191\n"
          ]
        }
      ],
      "source": [
        "print(f'accuracy: {accuracy}')\n",
        "print(f'precision: {precision}')\n",
        "print(f'recall: {recall}')\n",
        "print(f'f1: {f1}')"
      ]
    },
    {
      "cell_type": "code",
      "execution_count": 42,
      "metadata": {
        "colab": {
          "base_uri": "https://localhost:8080/",
          "height": 562
        },
        "id": "Vac4nAdS_4ce",
        "outputId": "0c87f6d4-f2ec-4acb-902e-04dfe70b75dd"
      },
      "outputs": [
        {
          "data": {
            "image/png": "[encoded data removed]",
            "text/plain": [
              "<Figure size 800x600 with 2 Axes>"
            ]
          },
          "metadata": {},
          "output_type": "display_data"
        }
      ],
      "source": [
        "conf_matrix = confusion_matrix(y_test, y_pred)\n",
        "plt.figure(figsize=(8, 6))\n",
        "sns.heatmap(conf_matrix, annot=True, fmt=\"d\", cmap=\"Blues\")\n",
        "plt.title(\"Model Confusion Matrix\", fontweight='bold')\n",
        "plt.xlabel(\"Predicted Label\")\n",
        "plt.ylabel(\"True Label\")\n",
        "plt.show()"
      ]
    },
    {
      "cell_type": "code",
      "execution_count": null,
      "metadata": {
        "id": "zZ995QUgNP7e"
      },
      "outputs": [],
      "source": []
    }
  ],
  "metadata": {
    "accelerator": "GPU",
    "colab": {
      "gpuType": "V100",
      "provenance": []
    },
    "kernelspec": {
      "display_name": "Python 3",
      "name": "python3"
    },
    "language_info": {
      "codemirror_mode": {
        "name": "ipython",
        "version": 3
      },
      "file_extension": ".py",
      "mimetype": "text/x-python",
      "name": "python",
      "nbconvert_exporter": "python",
      "pygments_lexer": "ipython3",
      "version": "3.10.11"
    }
  },
  "nbformat": 4,
  "nbformat_minor": 0
}
